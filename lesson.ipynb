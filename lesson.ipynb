{
 "cells": [
  {
   "cell_type": "markdown",
   "metadata": {},
   "source": [
    "# Scraping\n",
    "* getting html \n",
    "* parsing html"
   ]
  },
  {
   "cell_type": "code",
   "execution_count": 9,
   "metadata": {},
   "outputs": [],
   "source": [
    "# Import our libraries\n",
    "import json\n",
    "import requests\n",
    "\n",
    "import pandas as pd\n",
    "\n",
    "from bs4 import BeautifulSoup\n",
    "from pymongo import MongoClient"
   ]
  },
  {
   "cell_type": "code",
   "execution_count": 2,
   "metadata": {},
   "outputs": [],
   "source": [
    "# Scrape an item\n",
    "\n",
    "# step 1 get a url and it's params\n",
    "\n",
    "\n",
    "url = \"https://www.ebay.com/sch/i.html\"\n",
    "params = {\"_nkw\": \"noise cancelling headphones bluetooth wireless\"}"
   ]
  },
  {
   "cell_type": "markdown",
   "metadata": {},
   "source": [
    "# Step 1 - Get HTML"
   ]
  },
  {
   "cell_type": "code",
   "execution_count": 3,
   "metadata": {},
   "outputs": [],
   "source": [
    "# make a request and start scraping\n",
    "r = requests.get(url=url, params=params)"
   ]
  },
  {
   "cell_type": "code",
   "execution_count": 4,
   "metadata": {},
   "outputs": [
    {
     "data": {
      "text/plain": [
       "200"
      ]
     },
     "execution_count": 4,
     "metadata": {},
     "output_type": "execute_result"
    }
   ],
   "source": [
    "r.status_code"
   ]
  },
  {
   "cell_type": "code",
   "execution_count": 8,
   "metadata": {},
   "outputs": [
    {
     "data": {
      "text/plain": [
       "b'<!DOCTYPE html><!--[if IE 9]><html class=\"ie9 srp-ds6\" lang=\"en\"><![endif]--><!--[if gt IE 9]><!--><html class=\"srp-ds6\" lang=\"en\"><!--<![endif]--><head><meta http-equiv=\"X-UA-Compatible\" content=\"IE=edge\"><script>\"use strict\";if(window.PerformanceObserver&&performance&&performance.mark&&performance.getEntriesByName){window.SRP=window.SRP||{};var paintObserver=new window.PerformanceObserver(function(e){var r=e.getEntries();r.sort(function(e,r){return e.startTime-r.startTime});var n=r[1].startTime;window.SRP.TTI_TIMER={lastInteractiveWindow:n};var t=new window.PerformanceObserver(function(e){for(var r=e.getEntries(),i=0,a=r.length;i<a;i++)r[i].startTime-n>=5e3&&(window.SRP.TTI_TIMER.timeToInteract=n,t.disconnect()),n=r[i].startTime+r[i].duration,window.SRP.TTI_TIMER.lastInteractiveWindow=n});t.observe({entryTypes:[\"longtask\"]}),paintObserver.disconnect()});paintObserver.observe({entryTypes:[\"paint\"]})};</script><link rel=\"preconnect\" href=\"https://ir.ebaystatic.com\" /><meta name=\"robots\" content=\"noindex\" /><title>noise cancelling headphones bluetooth wireless | eBay</title><meta name=\"description\" content=\"Find great deals on eBay for noise cancelling headphones bluetooth wireless. Shop with confidence.\" /><meta Property=\"og:site_name\" Content=\"eBay\" /><meta name=\"referrer\" content=\"unsafe-url\" /><meta name=\"msvalidate.01\" content=\"34E98E6F27109BE1A9DCF19658EEEE33\" /><meta name=\"yandex-verification\" content=\"6e11485a66d91eff\" /><link href=\"https://i.ebayimg.com\" rel=\"preconnect\" /><meta name=\"y_key\" content=\"acf32e2a69cbc2b0\" /><meta name=\"google-site-verification\" content=\"8kHr3jd3Z43q1ovwo0KVgo_NZKIEMjthBxti8m8fYTg\" /><meta Property=\"og:image\" Content=\"https://ir.ebaystatic.com/cr/v/c1/ebay-logo-1-1200x630-margin.png\" /><meta property=\"fb:app_id\" content=\"102628213125203\" /><meta Property=\"og:type\" Content=\"website\" /><!-- NGMARS SIGNATURE --><link rel=\"dns-prefetch\" href=\"//i.ebayimg.com\"><link rel=\"dns-prefetch\" href=\"//ir.ebaystatic.com\"><link rel=\"dns-prefetch\" href=\"//rover.ebay.com\"><link rel=\"dns-prefetch\" href=\"//svcs.ebay.com\"><link rel=\"dns-prefetch\" href=\"//pulsar.ebay.com\"><link rel=\"dns-prefetch\" href=\"//www.google.com/\"><link rel=\"dns-prefetch\" href=\"//tpc.googlesyndication.com\"><link rel=\"dns-prefetch\" href=\"//securepubads.g.doubleclick.net\"><meta name=\"viewport\" content=\"width=device-width, initial-scale=1, minimum-scale=1\"><link rel=\"dns-prefetch\" href=\"//ir.ebaystatic.com\"><link rel=\"dns-prefetch\" href=\"//secureir.ebaystatic.com\"><link rel=\"dns-prefetch\" href=\"//i.ebayimg.com\"><link rel=\"dns-prefetch\" href=\"//rover.ebay.com\"><script>$ssgST=new Date().getTime();</script><link rel=\"stylesheet\" href=\"https://ir.ebaystatic.com/rs/c/inception-rDMaYDUm.css\">\\n<link rel=\"stylesheet\" href=\"https://ir.ebaystatic.com/rs/c/search-page-large-V45kSwDO.css\"><link rel=\"stylesheet\" type=\"text/css\" href=\"https://ir.ebaystatic.com/rs/v/zqrwizx0ja4g3c55zecfmzzuqit.css?proc=DU:N\"><!--M#s0-3-8--><noscript data-marko-key=\"@_wbind s0-3-8\" id=\"s0-3-8\"'"
      ]
     },
     "execution_count": 8,
     "metadata": {},
     "output_type": "execute_result"
    }
   ],
   "source": [
    "# r.content is just the html file of the webpage\n",
    "r.content[:3000]"
   ]
  },
  {
   "cell_type": "markdown",
   "metadata": {},
   "source": [
    "# Step 2 - Parse HTML"
   ]
  },
  {
   "cell_type": "code",
   "execution_count": 24,
   "metadata": {},
   "outputs": [],
   "source": [
    "webpage_soup = BeautifulSoup(r.content, 'html.parser')"
   ]
  },
  {
   "cell_type": "markdown",
   "metadata": {},
   "source": [
    "### .find vs .find_all\n",
    "* .find -> finds the first instance -> return a soup object\n",
    "* .find_all -> finds all instances -> returns a list of soup objects\n",
    "\n",
    "### what is a soup object?\n",
    "* like a cursor that lets you query into a string of html"
   ]
  },
  {
   "cell_type": "code",
   "execution_count": 14,
   "metadata": {},
   "outputs": [],
   "source": [
    "results_list = webpage_soup.find_all(\"div\", attrs={\"class\":\"srp-river-results\"})\n",
    "results = results_list[0]"
   ]
  },
  {
   "cell_type": "code",
   "execution_count": 27,
   "metadata": {},
   "outputs": [
    {
     "data": {
      "text/plain": [
       "63"
      ]
     },
     "execution_count": 27,
     "metadata": {},
     "output_type": "execute_result"
    }
   ],
   "source": [
    "result_boxes = results.find_all(\"div\", attrs={\"class\": \"s-item__wrapper\"})\n",
    "len(result_boxes)"
   ]
  },
  {
   "cell_type": "code",
   "execution_count": 30,
   "metadata": {},
   "outputs": [
    {
     "data": {
      "text/plain": [
       "('Waterproof Bluetooth 5.0 Earbuds Headphones Wireless Headset Noise Cancelling',\n",
       " '$13.99 to $35.99')"
      ]
     },
     "execution_count": 30,
     "metadata": {},
     "output_type": "execute_result"
    }
   ],
   "source": [
    "first_box = result_boxes[0]\n",
    "name = first_box.find(\"h3\", attrs={\"class\":\"s-item__title\"}).text\n",
    "price = first_box.find(\"span\", attrs={\"class\":\"s-item__price\"}).text"
   ]
  },
  {
   "cell_type": "markdown",
   "metadata": {},
   "source": [
    "# let's do this for all the boxes now! "
   ]
  },
  {
   "cell_type": "code",
   "execution_count": 43,
   "metadata": {},
   "outputs": [],
   "source": [
    "def get_list_of_data(result_boxes):\n",
    "    list_of_data = []\n",
    "    for box in result_boxes:\n",
    "        data = {}\n",
    "\n",
    "        data['name'] = box.find(\"h3\", attrs={\"class\":\"s-item__title\"}).text\n",
    "        data['price'] = box.find(\"span\", attrs={\"class\":\"s-item__price\"}).text\n",
    "        list_of_data.append(data)\n",
    "\n",
    "    return list_of_data"
   ]
  },
  {
   "cell_type": "code",
   "execution_count": 44,
   "metadata": {},
   "outputs": [
    {
     "data": {
      "text/html": [
       "<div>\n",
       "<style scoped>\n",
       "    .dataframe tbody tr th:only-of-type {\n",
       "        vertical-align: middle;\n",
       "    }\n",
       "\n",
       "    .dataframe tbody tr th {\n",
       "        vertical-align: top;\n",
       "    }\n",
       "\n",
       "    .dataframe thead th {\n",
       "        text-align: right;\n",
       "    }\n",
       "</style>\n",
       "<table border=\"1\" class=\"dataframe\">\n",
       "  <thead>\n",
       "    <tr style=\"text-align: right;\">\n",
       "      <th></th>\n",
       "      <th>name</th>\n",
       "      <th>price</th>\n",
       "    </tr>\n",
       "  </thead>\n",
       "  <tbody>\n",
       "    <tr>\n",
       "      <td>0</td>\n",
       "      <td>Waterproof Bluetooth 5.0 Earbuds Headphones Wi...</td>\n",
       "      <td>$13.99 to $35.99</td>\n",
       "    </tr>\n",
       "    <tr>\n",
       "      <td>1</td>\n",
       "      <td>A6S Wireless Earbuds Bluetooth 5.0 Headphones ...</td>\n",
       "      <td>$20.99</td>\n",
       "    </tr>\n",
       "    <tr>\n",
       "      <td>2</td>\n",
       "      <td>Bluetooth Wireless Headphones Bluedio T5S Nois...</td>\n",
       "      <td>$26.00</td>\n",
       "    </tr>\n",
       "    <tr>\n",
       "      <td>3</td>\n",
       "      <td>Waterproof Bluetooth 5.0 Earbuds Headphones Wi...</td>\n",
       "      <td>$23.39</td>\n",
       "    </tr>\n",
       "    <tr>\n",
       "      <td>4</td>\n",
       "      <td>2020 Wireless Earbuds Bluetooth 5.0 Headphones...</td>\n",
       "      <td>$18.60</td>\n",
       "    </tr>\n",
       "    <tr>\n",
       "      <td>...</td>\n",
       "      <td>...</td>\n",
       "      <td>...</td>\n",
       "    </tr>\n",
       "    <tr>\n",
       "      <td>58</td>\n",
       "      <td>AUSDOM ANC8 Active Noise Cancelling Bluetooth ...</td>\n",
       "      <td>$43.00</td>\n",
       "    </tr>\n",
       "    <tr>\n",
       "      <td>59</td>\n",
       "      <td>Cowin E7 [2018 Upgraded] Noise Cancelling Head...</td>\n",
       "      <td>$47.99</td>\n",
       "    </tr>\n",
       "    <tr>\n",
       "      <td>60</td>\n",
       "      <td>Bluetooth Noise Cancelling Headphones Over Ear...</td>\n",
       "      <td>$18.99</td>\n",
       "    </tr>\n",
       "    <tr>\n",
       "      <td>61</td>\n",
       "      <td>Bluedio T5S Bluetooth V4.2 Headphones Wireless...</td>\n",
       "      <td>$26.00</td>\n",
       "    </tr>\n",
       "    <tr>\n",
       "      <td>62</td>\n",
       "      <td>Bluedio TN Bluetooth Noise Cancelling Earphone...</td>\n",
       "      <td>$14.99</td>\n",
       "    </tr>\n",
       "  </tbody>\n",
       "</table>\n",
       "<p>63 rows × 2 columns</p>\n",
       "</div>"
      ],
      "text/plain": [
       "                                                 name             price\n",
       "0   Waterproof Bluetooth 5.0 Earbuds Headphones Wi...  $13.99 to $35.99\n",
       "1   A6S Wireless Earbuds Bluetooth 5.0 Headphones ...            $20.99\n",
       "2   Bluetooth Wireless Headphones Bluedio T5S Nois...            $26.00\n",
       "3   Waterproof Bluetooth 5.0 Earbuds Headphones Wi...            $23.39\n",
       "4   2020 Wireless Earbuds Bluetooth 5.0 Headphones...            $18.60\n",
       "..                                                ...               ...\n",
       "58  AUSDOM ANC8 Active Noise Cancelling Bluetooth ...            $43.00\n",
       "59  Cowin E7 [2018 Upgraded] Noise Cancelling Head...            $47.99\n",
       "60  Bluetooth Noise Cancelling Headphones Over Ear...            $18.99\n",
       "61  Bluedio T5S Bluetooth V4.2 Headphones Wireless...            $26.00\n",
       "62  Bluedio TN Bluetooth Noise Cancelling Earphone...            $14.99\n",
       "\n",
       "[63 rows x 2 columns]"
      ]
     },
     "execution_count": 44,
     "metadata": {},
     "output_type": "execute_result"
    }
   ],
   "source": [
    "pd.DataFrame(get_list_of_data(result_boxes))"
   ]
  },
  {
   "cell_type": "code",
   "execution_count": 47,
   "metadata": {},
   "outputs": [],
   "source": [
    "def get_result_boxes(webpage_soup):\n",
    "    results_list = webpage_soup.find_all(\"div\", attrs={\"class\":\"srp-river-results\"})[0]\n",
    "    result_boxes = results_list.find_all(\"div\", attrs={\"class\": \"s-item__wrapper\"})\n",
    "    return result_boxes"
   ]
  },
  {
   "cell_type": "code",
   "execution_count": 48,
   "metadata": {},
   "outputs": [],
   "source": [
    "# let's do this for multiple pages\n",
    "# Scrape an item\n",
    "\n",
    "# step 1 get a url and it's params\n",
    "\n",
    "all_data = []\n",
    "url = \"https://www.ebay.com/sch/i.html\"\n",
    "for page_number in range(1, 6):\n",
    "    params = {\"_nkw\": \"noise cancelling headphones bluetooth wireless\", \"&_pgn\": page_number}\n",
    "    r = requests.get(url=url, params=params)\n",
    "    webpage_soup = BeautifulSoup(r.content, 'html.parser')\n",
    "    result_boxes = get_result_boxes(webpage_soup)\n",
    "    page_list_of_data = get_list_of_data(result_boxes)\n",
    "    all_data.extend(page_list_of_data)"
   ]
  },
  {
   "cell_type": "code",
   "execution_count": 49,
   "metadata": {},
   "outputs": [
    {
     "data": {
      "text/plain": [
       "315"
      ]
     },
     "execution_count": 49,
     "metadata": {},
     "output_type": "execute_result"
    }
   ],
   "source": [
    "len(all_data)"
   ]
  },
  {
   "cell_type": "code",
   "execution_count": 50,
   "metadata": {},
   "outputs": [
    {
     "data": {
      "text/html": [
       "<div>\n",
       "<style scoped>\n",
       "    .dataframe tbody tr th:only-of-type {\n",
       "        vertical-align: middle;\n",
       "    }\n",
       "\n",
       "    .dataframe tbody tr th {\n",
       "        vertical-align: top;\n",
       "    }\n",
       "\n",
       "    .dataframe thead th {\n",
       "        text-align: right;\n",
       "    }\n",
       "</style>\n",
       "<table border=\"1\" class=\"dataframe\">\n",
       "  <thead>\n",
       "    <tr style=\"text-align: right;\">\n",
       "      <th></th>\n",
       "      <th>name</th>\n",
       "      <th>price</th>\n",
       "    </tr>\n",
       "  </thead>\n",
       "  <tbody>\n",
       "    <tr>\n",
       "      <td>0</td>\n",
       "      <td>Waterproof Bluetooth 5.0 Earbuds Headphones Wi...</td>\n",
       "      <td>$13.99 to $35.99</td>\n",
       "    </tr>\n",
       "    <tr>\n",
       "      <td>1</td>\n",
       "      <td>A6S Wireless Earbuds Bluetooth 5.0 Headphones ...</td>\n",
       "      <td>$20.99</td>\n",
       "    </tr>\n",
       "    <tr>\n",
       "      <td>2</td>\n",
       "      <td>Waterproof Bluetooth 5.0 Earbuds Headphones Wi...</td>\n",
       "      <td>$23.39</td>\n",
       "    </tr>\n",
       "    <tr>\n",
       "      <td>3</td>\n",
       "      <td>2020 Wireless Earbuds Bluetooth 5.0 Headphones...</td>\n",
       "      <td>$18.60</td>\n",
       "    </tr>\n",
       "    <tr>\n",
       "      <td>4</td>\n",
       "      <td>Bluetooth Wireless Headphones Bluedio T5S Nois...</td>\n",
       "      <td>$26.00</td>\n",
       "    </tr>\n",
       "  </tbody>\n",
       "</table>\n",
       "</div>"
      ],
      "text/plain": [
       "                                                name             price\n",
       "0  Waterproof Bluetooth 5.0 Earbuds Headphones Wi...  $13.99 to $35.99\n",
       "1  A6S Wireless Earbuds Bluetooth 5.0 Headphones ...            $20.99\n",
       "2  Waterproof Bluetooth 5.0 Earbuds Headphones Wi...            $23.39\n",
       "3  2020 Wireless Earbuds Bluetooth 5.0 Headphones...            $18.60\n",
       "4  Bluetooth Wireless Headphones Bluedio T5S Nois...            $26.00"
      ]
     },
     "execution_count": 50,
     "metadata": {},
     "output_type": "execute_result"
    }
   ],
   "source": [
    "df = pd.DataFrame(all_data)\n",
    "df.head()"
   ]
  },
  {
   "cell_type": "markdown",
   "metadata": {},
   "source": [
    "# We want to store our data\n",
    "Options\n",
    "* MongoDB\n",
    "* SQL\n",
    "* xlsx\n",
    "* csv\n",
    "* tsv\n",
    "* json"
   ]
  },
  {
   "cell_type": "markdown",
   "metadata": {},
   "source": [
    "## Let's store in various ways"
   ]
  },
  {
   "cell_type": "code",
   "execution_count": 52,
   "metadata": {},
   "outputs": [],
   "source": [
    "# csv\n",
    "df.to_csv(\"ebay_earbuds.csv\", index=False)"
   ]
  },
  {
   "cell_type": "code",
   "execution_count": 53,
   "metadata": {},
   "outputs": [],
   "source": [
    "# tsv\n",
    "df.to_csv(\"ebay_earbuds.tsv\", index=False, sep='\\t')"
   ]
  },
  {
   "cell_type": "code",
   "execution_count": 54,
   "metadata": {},
   "outputs": [],
   "source": [
    "# text\n",
    "df.to_csv(\"ebay_earbuds.txt\", index=False)"
   ]
  },
  {
   "cell_type": "code",
   "execution_count": 58,
   "metadata": {},
   "outputs": [],
   "source": [
    "# json\n",
    "df.to_json(\"ebay_earbuds.json\", lines=True, orient='records')"
   ]
  },
  {
   "cell_type": "code",
   "execution_count": 59,
   "metadata": {},
   "outputs": [],
   "source": [
    "import sqlite3"
   ]
  },
  {
   "cell_type": "code",
   "execution_count": 60,
   "metadata": {},
   "outputs": [],
   "source": [
    "conn = sqlite3.connect('ebay_earbuds.db')"
   ]
  },
  {
   "cell_type": "code",
   "execution_count": 61,
   "metadata": {},
   "outputs": [],
   "source": [
    "df.to_sql(\"earbuds\", conn, schema=None, if_exists='fail', \n",
    "          index=True, index_label=None, chunksize=None, dtype=None)\n"
   ]
  },
  {
   "cell_type": "code",
   "execution_count": 62,
   "metadata": {},
   "outputs": [
    {
     "data": {
      "text/plain": [
       "[('earbuds',)]"
      ]
     },
     "execution_count": 62,
     "metadata": {},
     "output_type": "execute_result"
    }
   ],
   "source": [
    "conn.execute(\"select name from sqlite_master where type='table';\").fetchall()"
   ]
  },
  {
   "cell_type": "markdown",
   "metadata": {},
   "source": [
    "# Storing in a MongoDB"
   ]
  },
  {
   "cell_type": "code",
   "execution_count": 63,
   "metadata": {},
   "outputs": [],
   "source": [
    "client = MongoClient(host='localhost', port=27017)"
   ]
  },
  {
   "cell_type": "code",
   "execution_count": 64,
   "metadata": {},
   "outputs": [
    {
     "data": {
      "text/plain": [
       "['AprFT',\n",
       " 'admin',\n",
       " 'config',\n",
       " 'ebay',\n",
       " 'headstorm_client_db',\n",
       " 'local',\n",
       " 'music_tweets',\n",
       " 'new_db',\n",
       " 'tweets']"
      ]
     },
     "execution_count": 64,
     "metadata": {},
     "output_type": "execute_result"
    }
   ],
   "source": [
    "client.list_database_names()"
   ]
  },
  {
   "cell_type": "code",
   "execution_count": 65,
   "metadata": {},
   "outputs": [],
   "source": [
    "ebay = client['ebay']"
   ]
  },
  {
   "cell_type": "code",
   "execution_count": 66,
   "metadata": {},
   "outputs": [
    {
     "data": {
      "text/plain": [
       "['collection_one', 'tech_bags']"
      ]
     },
     "execution_count": 66,
     "metadata": {},
     "output_type": "execute_result"
    }
   ],
   "source": [
    "ebay.list_collection_names()"
   ]
  },
  {
   "cell_type": "code",
   "execution_count": 67,
   "metadata": {},
   "outputs": [],
   "source": [
    "earbuds = ebay['earbuds']"
   ]
  },
  {
   "cell_type": "code",
   "execution_count": 68,
   "metadata": {},
   "outputs": [
    {
     "data": {
      "text/plain": [
       "<pymongo.results.InsertManyResult at 0x1242c3848>"
      ]
     },
     "execution_count": 68,
     "metadata": {},
     "output_type": "execute_result"
    }
   ],
   "source": [
    "earbuds.insert_many(all_data)"
   ]
  },
  {
   "cell_type": "code",
   "execution_count": 69,
   "metadata": {},
   "outputs": [
    {
     "data": {
      "text/plain": [
       "['earbuds', 'collection_one', 'tech_bags']"
      ]
     },
     "execution_count": 69,
     "metadata": {},
     "output_type": "execute_result"
    }
   ],
   "source": [
    "ebay.list_collection_names()"
   ]
  },
  {
   "cell_type": "code",
   "execution_count": null,
   "metadata": {},
   "outputs": [],
   "source": []
  }
 ],
 "metadata": {
  "kernelspec": {
   "display_name": "Python [conda env:flatiron-env] *",
   "language": "python",
   "name": "conda-env-flatiron-env-py"
  },
  "language_info": {
   "codemirror_mode": {
    "name": "ipython",
    "version": 3
   },
   "file_extension": ".py",
   "mimetype": "text/x-python",
   "name": "python",
   "nbconvert_exporter": "python",
   "pygments_lexer": "ipython3",
   "version": "3.6.0"
  }
 },
 "nbformat": 4,
 "nbformat_minor": 2
}
